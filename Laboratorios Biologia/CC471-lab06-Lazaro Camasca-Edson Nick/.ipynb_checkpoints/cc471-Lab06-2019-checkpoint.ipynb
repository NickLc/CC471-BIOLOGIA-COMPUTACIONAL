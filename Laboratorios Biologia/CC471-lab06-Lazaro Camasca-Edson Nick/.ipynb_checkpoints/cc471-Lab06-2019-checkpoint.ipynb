{
 "cells": [
  {
   "cell_type": "markdown",
   "metadata": {},
   "source": [
    "# CC471: LAB06 -2019 - Manejo de secuencias con BioPython\n",
    "\n",
    "\n",
    "## Practica: \n",
    "\n"
   ]
  },
  {
   "cell_type": "markdown",
   "metadata": {},
   "source": [
    "# BioPython\n",
    "\n",
    "BioPython es un paquete Python muy popular para manejar información biologica.\n",
    "\n",
    "Para instalar:\n",
    "\n",
    "```\n",
    "conda install biopython\n",
    "```\n",
    "ó\n",
    "\n",
    "```\n",
    "pip install biopython\n",
    "```\n",
    "\n",
    "\n",
    "BioPython tiene tres funcionalidades principales:\n",
    "\n",
    "* Sequence Handling\n",
    "* 3D Structure\n",
    "* Population Genetics\n",
    "\n",
    "\n",
    "Referencias: [tutorial](http://biopython.org/DIST/docs/tutorial/Tutorial.html), [website](http://biopython.org/), [wiki](http://biopython.org/wiki/Category%3AWiki_Documentation) (la mayoria de los ejemplos viene de estas fuentes).\n",
    " \n",
    "# `BioPython.Seq`\n",
    "\n",
    "El tipo de objeto principal que veremos son las secuencias. Se maneja con la clase `Seq`.\n",
    "\n",
    "Como es sabido, podemos tener secuencias de tipo ADN , RNA, y  Proteinas .\n",
    "\n",
    "BioPython ayuda a distinguir y hacer diferentes cosas con los diferentes tipos de secuencias."
   ]
  },
  {
   "cell_type": "code",
   "execution_count": 1,
   "metadata": {},
   "outputs": [
    {
     "name": "stdout",
     "output_type": "stream",
     "text": [
      "<class 'Bio.Seq.Seq'>\n",
      "['alphabet', 'back_transcribe', 'complement', 'count', 'count_overlap', 'endswith', 'find', 'lower', 'lstrip', 'reverse_complement', 'rfind', 'rsplit', 'rstrip', 'split', 'startswith', 'strip', 'tomutable', 'tostring', 'transcribe', 'translate', 'ungap', 'upper']\n"
     ]
    }
   ],
   "source": [
    "#let's make a generic sequence\n",
    "\n",
    "from Bio.Seq import Seq\n",
    "\n",
    "my_seq = Seq(\"CCCGGAGAGA\")\n",
    "print(type(my_seq))\n",
    "#let's see what attributes this object has\n",
    "attributes = [a for a in dir(my_seq) if not a.startswith(\"_\")]\n",
    "print(attributes)"
   ]
  },
  {
   "cell_type": "markdown",
   "metadata": {},
   "source": [
    "## Alfabeto de secuencia\n",
    "Al parecer se puede hacer mucho con este tipo de objetos.\n",
    "\n",
    "El problema es que Python no conoce que tipo de secencia es esta (DNA, RNA, Proteina).\n",
    "\n",
    "debemos especificar a que tipo de \"Alphabeto\" pertenece a secuencia."
   ]
  },
  {
   "cell_type": "code",
   "execution_count": 2,
   "metadata": {},
   "outputs": [
    {
     "name": "stdout",
     "output_type": "stream",
     "text": [
      "Alphabet()\n"
     ]
    }
   ],
   "source": [
    "#right now it has just a generic alphabet\n",
    "print(my_seq.alphabet)\n"
   ]
  },
  {
   "cell_type": "markdown",
   "metadata": {},
   "source": [
    "### Importar alfabetos"
   ]
  },
  {
   "cell_type": "code",
   "execution_count": 3,
   "metadata": {},
   "outputs": [],
   "source": [
    "from Bio.Alphabet import generic_dna, generic_protein, generic_rna\n",
    "\n",
    "my_dna = Seq(\"CCCGGAGAG\", generic_dna)\n",
    "my_rna = Seq(\"ACCCGUUGU\", generic_rna)\n",
    "my_protein = Seq(\"AKKKGGGUUULL\", generic_protein)"
   ]
  },
  {
   "cell_type": "markdown",
   "metadata": {},
   "source": [
    "Biopython ahora sabrá la diferencia entre una base de ADN `A` de adenina y un residuo de proteina `A` de  alanina.\n",
    "\n",
    "## Transcripcion y traduccion\n",
    "Ahora se puede realizar acciones del dogma central : transcripcion y traduccion."
   ]
  },
  {
   "cell_type": "code",
   "execution_count": 4,
   "metadata": {},
   "outputs": [
    {
     "name": "stdout",
     "output_type": "stream",
     "text": [
      "ACUAGCAGCGGA\n",
      "RNAAlphabet()\n",
      "TSSG\n",
      "ExtendedIUPACProtein()\n"
     ]
    }
   ],
   "source": [
    "my_gene = Seq(\"ACTAGCAGCGGA\", generic_dna)\n",
    "\n",
    "#get the mRNA\n",
    "\n",
    "my_transcript = my_gene.transcribe()\n",
    "print(my_transcript)\n",
    "print(my_transcript.alphabet)\n",
    "\n",
    "\n",
    "#get the protein from the mRNA\n",
    "my_protein = my_transcript.translate()\n",
    "print(my_protein)\n",
    "print(my_protein.alphabet)"
   ]
  },
  {
   "cell_type": "markdown",
   "metadata": {},
   "source": [
    "### Pasar ADN a Proteina\n",
    "\n",
    "También se puede pasar directamente de un ADN a la proteina."
   ]
  },
  {
   "cell_type": "code",
   "execution_count": 5,
   "metadata": {},
   "outputs": [
    {
     "name": "stdout",
     "output_type": "stream",
     "text": [
      "MAIVMGR*KGAR*\n"
     ]
    }
   ],
   "source": [
    "coding_dna = Seq(\"ATGGCCATTGTAATGGGCCGCTGAAAGGGTGCCCGATAG\", generic_dna)\n",
    "myprot = coding_dna.translate()\n",
    "print(myprot)"
   ]
  },
  {
   "cell_type": "markdown",
   "metadata": {},
   "source": [
    "### Traduccion con STOP *\n",
    "\n",
    "Como se puede ver, tenemos algunos STOP codones representados como `*` y la traducción continuó.\n",
    "podemos hacer que __la traducción__ realmente pare __cuando encuentre un STOP codon__."
   ]
  },
  {
   "cell_type": "code",
   "execution_count": 6,
   "metadata": {},
   "outputs": [
    {
     "name": "stdout",
     "output_type": "stream",
     "text": [
      "MAIVMGR\n"
     ]
    }
   ],
   "source": [
    "myprot = coding_dna.translate(to_stop=True)\n",
    "print(myprot)"
   ]
  },
  {
   "cell_type": "markdown",
   "metadata": {},
   "source": [
    "### Traduccion de genes validos\n",
    "\n",
    "Incluso se puede ser mas realista, y permitir solamente la __traducción de genes válidos__  (por ejemplo,  con codones de START y STOP válidos y un numero apropiado de bases).\n",
    "\n",
    "Esto se hace estableciendo  la keyword `cds=True` , que significa  \"coding sequence\".\n",
    "\n",
    "Si no tuvieramos una coding __secuence válida obtendremos un error__."
   ]
  },
  {
   "cell_type": "code",
   "execution_count": 7,
   "metadata": {},
   "outputs": [
    {
     "ename": "TranslationError",
     "evalue": "Extra in frame stop codon found.",
     "output_type": "error",
     "traceback": [
      "\u001b[1;31m---------------------------------------------------------------------------\u001b[0m",
      "\u001b[1;31mKeyError\u001b[0m                                  Traceback (most recent call last)",
      "\u001b[1;32m~\\Anaconda3\\lib\\site-packages\\Bio\\Seq.py\u001b[0m in \u001b[0;36m_translate_str\u001b[1;34m(sequence, table, stop_symbol, to_stop, cds, pos_stop, gap)\u001b[0m\n\u001b[0;32m   2587\u001b[0m         \u001b[1;32mtry\u001b[0m\u001b[1;33m:\u001b[0m\u001b[1;33m\u001b[0m\u001b[0m\n\u001b[1;32m-> 2588\u001b[1;33m             \u001b[0mamino_acids\u001b[0m\u001b[1;33m.\u001b[0m\u001b[0mappend\u001b[0m\u001b[1;33m(\u001b[0m\u001b[0mforward_table\u001b[0m\u001b[1;33m[\u001b[0m\u001b[0mcodon\u001b[0m\u001b[1;33m]\u001b[0m\u001b[1;33m)\u001b[0m\u001b[1;33m\u001b[0m\u001b[0m\n\u001b[0m\u001b[0;32m   2589\u001b[0m         \u001b[1;32mexcept\u001b[0m \u001b[1;33m(\u001b[0m\u001b[0mKeyError\u001b[0m\u001b[1;33m,\u001b[0m \u001b[0mCodonTable\u001b[0m\u001b[1;33m.\u001b[0m\u001b[0mTranslationError\u001b[0m\u001b[1;33m)\u001b[0m\u001b[1;33m:\u001b[0m\u001b[1;33m\u001b[0m\u001b[0m\n",
      "\u001b[1;32m~\\Anaconda3\\lib\\site-packages\\Bio\\Data\\CodonTable.py\u001b[0m in \u001b[0;36m__getitem__\u001b[1;34m(self, codon)\u001b[0m\n\u001b[0;32m    384\u001b[0m             \u001b[1;32mif\u001b[0m \u001b[0mx\u001b[0m \u001b[1;32mis\u001b[0m \u001b[0mKeyError\u001b[0m\u001b[1;33m:\u001b[0m\u001b[1;33m\u001b[0m\u001b[0m\n\u001b[1;32m--> 385\u001b[1;33m                 \u001b[1;32mraise\u001b[0m \u001b[0mKeyError\u001b[0m\u001b[1;33m(\u001b[0m\u001b[0mcodon\u001b[0m\u001b[1;33m)\u001b[0m  \u001b[1;31m# it's a stop codon\u001b[0m\u001b[1;33m\u001b[0m\u001b[0m\n\u001b[0m\u001b[0;32m    386\u001b[0m             \u001b[1;32mreturn\u001b[0m \u001b[0mx\u001b[0m\u001b[1;33m\u001b[0m\u001b[0m\n",
      "\u001b[1;31mKeyError\u001b[0m: 'TGA'",
      "\nDuring handling of the above exception, another exception occurred:\n",
      "\u001b[1;31mTranslationError\u001b[0m                          Traceback (most recent call last)",
      "\u001b[1;32m<ipython-input-7-c32b2502db4f>\u001b[0m in \u001b[0;36m<module>\u001b[1;34m()\u001b[0m\n\u001b[1;32m----> 1\u001b[1;33m \u001b[0mmyprot\u001b[0m \u001b[1;33m=\u001b[0m \u001b[0mcoding_dna\u001b[0m\u001b[1;33m.\u001b[0m\u001b[0mtranslate\u001b[0m\u001b[1;33m(\u001b[0m\u001b[0mcds\u001b[0m\u001b[1;33m=\u001b[0m\u001b[1;32mTrue\u001b[0m\u001b[1;33m)\u001b[0m\u001b[1;33m\u001b[0m\u001b[0m\n\u001b[0m",
      "\u001b[1;32m~\\Anaconda3\\lib\\site-packages\\Bio\\Seq.py\u001b[0m in \u001b[0;36mtranslate\u001b[1;34m(self, table, stop_symbol, to_stop, cds, gap)\u001b[0m\n\u001b[0;32m   1161\u001b[0m \u001b[1;33m\u001b[0m\u001b[0m\n\u001b[0;32m   1162\u001b[0m         protein = _translate_str(str(self), codon_table, stop_symbol, to_stop,\n\u001b[1;32m-> 1163\u001b[1;33m                                  cds, gap=gap)\n\u001b[0m\u001b[0;32m   1164\u001b[0m \u001b[1;33m\u001b[0m\u001b[0m\n\u001b[0;32m   1165\u001b[0m         \u001b[1;32mif\u001b[0m \u001b[0mgap\u001b[0m \u001b[1;32mand\u001b[0m \u001b[0mgap\u001b[0m \u001b[1;32min\u001b[0m \u001b[0mprotein\u001b[0m\u001b[1;33m:\u001b[0m\u001b[1;33m\u001b[0m\u001b[0m\n",
      "\u001b[1;32m~\\Anaconda3\\lib\\site-packages\\Bio\\Seq.py\u001b[0m in \u001b[0;36m_translate_str\u001b[1;34m(sequence, table, stop_symbol, to_stop, cds, pos_stop, gap)\u001b[0m\n\u001b[0;32m   2591\u001b[0m                 \u001b[1;32mif\u001b[0m \u001b[0mcds\u001b[0m\u001b[1;33m:\u001b[0m\u001b[1;33m\u001b[0m\u001b[0m\n\u001b[0;32m   2592\u001b[0m                     raise CodonTable.TranslationError(\n\u001b[1;32m-> 2593\u001b[1;33m                         \"Extra in frame stop codon found.\")\n\u001b[0m\u001b[0;32m   2594\u001b[0m                 \u001b[1;32mif\u001b[0m \u001b[0mto_stop\u001b[0m\u001b[1;33m:\u001b[0m\u001b[1;33m\u001b[0m\u001b[0m\n\u001b[0;32m   2595\u001b[0m                     \u001b[1;32mbreak\u001b[0m\u001b[1;33m\u001b[0m\u001b[0m\n",
      "\u001b[1;31mTranslationError\u001b[0m: Extra in frame stop codon found."
     ]
    }
   ],
   "source": [
    "myprot = coding_dna.translate(cds=True)"
   ]
  },
  {
   "cell_type": "code",
   "execution_count": null,
   "metadata": {},
   "outputs": [],
   "source": [
    "gene = Seq(\"ATGGCCATTGTAATGTAG\", generic_dna)\n",
    "gene.translate(cds=True)"
   ]
  },
  {
   "cell_type": "markdown",
   "metadata": {},
   "source": [
    "## Metodos generales para secuencias\n",
    "\n",
    "Existen algunas operaciones convenientes para trabajar con secuencias."
   ]
  },
  {
   "cell_type": "markdown",
   "metadata": {},
   "source": [
    "### Concatenar secuencias\n",
    "Se pueden concatenar sequencias si son de tipos identicos."
   ]
  },
  {
   "cell_type": "code",
   "execution_count": null,
   "metadata": {},
   "outputs": [],
   "source": [
    "seq1 = Seq(\"AAACGGA\", generic_dna)\n",
    "seq2 = Seq(\"GGAGAT\", generic_dna)\n",
    "\n",
    "seq1 + seq2"
   ]
  },
  {
   "cell_type": "markdown",
   "metadata": {},
   "source": [
    "### Tratarlos como string\n",
    "Tambien se puede indexar y cortar como si fueran  strings."
   ]
  },
  {
   "cell_type": "code",
   "execution_count": null,
   "metadata": {},
   "outputs": [],
   "source": [
    "print(seq1[:5]) \n",
    "print(seq2[-2]) \n",
    "seq1[:5] + seq2[-2]"
   ]
  },
  {
   "cell_type": "markdown",
   "metadata": {},
   "source": [
    "los objetos tipo `Seq` son inmutables, como las strings."
   ]
  },
  {
   "cell_type": "code",
   "execution_count": null,
   "metadata": {},
   "outputs": [],
   "source": [
    "seq1[2] = \"G\""
   ]
  },
  {
   "cell_type": "markdown",
   "metadata": {},
   "source": [
    "### Tratarlos como listas\n",
    "Existe otro tipo de objeto llamado  `MutableSeq`.  Si queremos utilizar mutabilidad podemos convertir un objeto `Seq` a otro objeto `MutableSeq` facilmente."
   ]
  },
  {
   "cell_type": "code",
   "execution_count": null,
   "metadata": {},
   "outputs": [],
   "source": [
    "mut_seq = seq1.tomutable()\n",
    "mut_seq"
   ]
  },
  {
   "cell_type": "code",
   "execution_count": null,
   "metadata": {},
   "outputs": [],
   "source": [
    "mut_seq[0] = \"G\"\n",
    "print(mut_seq)"
   ]
  },
  {
   "cell_type": "markdown",
   "metadata": {},
   "source": [
    "### Busqueda de subsecuencias\n",
    "Tambien podemos hacer búsquedas dentro de las secuencias"
   ]
  },
  {
   "cell_type": "code",
   "execution_count": null,
   "metadata": {},
   "outputs": [],
   "source": [
    "myseq = Seq(\"CCAGAAACCCGGAA\", generic_dna)\n",
    "\n",
    "#find the first occurence of the pattern\n",
    "print(\"the first ocurence: \", myseq.find(\"GAA\"))\n",
    "\n",
    "#find the number of non-overlapping occurrences of a pattern\n",
    "print(\"the number ocurrence: \",myseq.count(\"GAA\"))"
   ]
  },
  {
   "cell_type": "markdown",
   "metadata": {},
   "source": [
    "# Busqueda en Bases de Datos\n",
    "\n",
    "Digamos que ha aislado una parte de un ADN en el laboratorio y tiene su secuencia.\n",
    "\n",
    "Ahora quiere encontrar a que organismo pertenece esta secuencia.\n",
    "\n",
    "Si pregunta a un Biologo le dirá \"BLASTealo \".\n",
    "\n",
    "## BLAST\n",
    "\n",
    "BLAST es un algoritmo de alineamiento que busca su secuencia en una enorme base de datos de secuencias cuyos origenes se conocen.\n",
    "\n",
    "Sin la ayuda de BioPython, tendriamos que subir nuestras secuencias al servidor BLAST  `AAAAGGAGAGAGAGTTTATA` accediendo al servidor de NCBI [NCBI BLAST web server](https://blast.ncbi.nlm.nih.gov/Blast.cgi?PROGRAM=blastn&PAGE_TYPE=BlastSearch&LINK_LOC=blasthome). Que pasaria si tuvieramos cientos de secuencias para investigar?\n",
    "\n",
    "Gracias a BioPython podemos hacerlo automaticamente!\n",
    "\n",
    "El metodo  `qblast`de lo módulo `Bio.Blast.NCBIWWW` envia nuestra secuencia al sevidor  BLAST.\n",
    "\n",
    "Aqui utilizaremos el el algoritmo de \"BLAST para nucleotidos\"  `blastn` y lo utilizaremos en la base de datos de todas las secuencias de nucleotidos, llamada `nt`.\n"
   ]
  },
  {
   "cell_type": "code",
   "execution_count": null,
   "metadata": {},
   "outputs": [],
   "source": [
    "from Bio.Blast import NCBIWWW\n",
    "\n",
    "result_handle = NCBIWWW.qblast(\"blastn\", \"nt\", Seq(\"ACCGCCGAGACCGCGTCCGCCCCGCGAGCACAGAGCCTCGCCTTTGCCGATCCGCCGCCCGTCCA\", generic_dna))\n",
    "print(result_handle)"
   ]
  },
  {
   "cell_type": "markdown",
   "metadata": {},
   "source": [
    "### Resultado XML\n",
    "\n",
    "Esperamos algunos segundos \n",
    "para obtener un  `result_handle` que es como un archivo  temporal abierto para lectura.\n",
    "\n",
    "El formato de este archivo es XML, Felizmente BioPython tiene un parser XML que extrae toda la información necesaria para nosotros."
   ]
  },
  {
   "cell_type": "code",
   "execution_count": null,
   "metadata": {},
   "outputs": [],
   "source": [
    "from Bio.Blast import NCBIXML\n",
    "blast_records = NCBIXML.parse(result_handle)\n",
    "dir(blast_records)\n",
    "print(blast_records.__sizeof__)"
   ]
  },
  {
   "cell_type": "markdown",
   "metadata": {},
   "source": [
    "\n",
    "Obtenemos un \"iterator\" de objetos tipo record de BLAST, o \" resultados de la busqueda\". Ahora se puede hacer un ciclo sobre cada uno de nuestros resultados  e imprimir alguna información.\n",
    "\n",
    "### Alignments\n",
    "\n",
    "Aqui hacemos un Loop sobre todos los resultados que tienen el atributo \n",
    " `alignments` que son los alineamientos de nuestra secuencia con algun organismo en la base de datos.\n",
    "\n",
    "El atributo `alignment` en si tiene otros atributos como la secuencia `query`, la longitud `length` y titulo `title` del organismo correspondiente"
   ]
  },
  {
   "cell_type": "code",
   "execution_count": null,
   "metadata": {},
   "outputs": [],
   "source": [
    "print('1')\n",
    "for b in blast_records:\n",
    "    for alignment in b.alignments:\n",
    "        for hsp in alignment.hsps:\n",
    "            print('****Alineamiento****')\n",
    "            print('secuencia:', alignment.title)\n",
    "            print('longitud:', alignment.length)\n",
    "            print('e value:', hsp.expect)\n",
    "            print(hsp.query[0:75] + '...')\n",
    "            print(hsp.match[0:75] + '...')\n",
    "            print(hsp.sbjct[0:75] + '...')"
   ]
  },
  {
   "cell_type": "markdown",
   "metadata": {},
   "source": [
    "# `SeqRecord` y `SeqIO`\n",
    "\n",
    "Frecuentemente,las secuiencias tienen alguna __informacion adicional__ asociadas a ellas. \n",
    "\n",
    "Un buen ejemplo fue el ejercicio BLAST que nos dio secuencias asociadas a organismos especificos, y locaciones genomicas.\n",
    "\n",
    "Generalmente se necesitará __guardar esta informacion__ junto con nuestra secuencia de origen `Seq` .\n",
    "\n",
    "BioPython permite hacer esto con las clases `SeqRecord` and `SeqIO`.\n",
    "\n",
    "\n",
    "##  Haciendo Parsing con `SeqIO`\n",
    "\n",
    "La clase  `SeqIO` que significa: Sequence Input/Output nos permite __leer y escribir de diferentes formatos de archivos__ de anotacion de secuencias que son comunes en las bases de datos biologicas.\n",
    "\n",
    "P.Ej. en la base de datos  de secuencias [GenBank](https://www.ncbi.nlm.nih.gov/genbank/) se puede buscar una secuencia relacionada a la plaga de la Peste Bubonica (Yersinia Pestis bacteria) [here](https://www.ncbi.nlm.nih.gov/nuccore/NZ_ADRZ01000932.1?report=fasta).\n",
    "\n",
    "![](https://www.nationalgeographic.com/content/dam/science/photos/000/033/3338.ngsversion.1492437604403.adapt.676.1.jpg)\n",
    "(\"The Triumph of Death by  Pieter Bruegel)\n",
    "\n",
    "Tendremos un archivo  `fasta` y BioPython puede reconocerlo (hacer parsing) automaticamente.\n",
    "\n",
    "La anotacion de una secuencia FASTA se encuentra en la cabecera:\n",
    "\n",
    "```\n",
    ">NZ_ADRZ01000932.1 Yersinia pestis biovar Antiqua str. E1979001 Contig_E1979001_19275, whole genome shotgun sequence\n",
    "```\n",
    "\n",
    "### `SeqIO.parse`\n",
    "\n",
    "El método `SeqIO.parse` recibe la ruta a un archivo  y su formato, en este caso \"fasta\" y produce un iteratror sobre cada item en archivo fasta.\n",
    "\n",
    "Cada item producido por el iterator es un objeto tipo `SeqRecords`.\n"
   ]
  },
  {
   "cell_type": "code",
   "execution_count": null,
   "metadata": {},
   "outputs": [],
   "source": [
    "from Bio import SeqIO\n",
    "\n",
    "records = SeqIO.parse(\"lab06-files/plague.fa\", \"fasta\")\n",
    "for r in records:\n",
    "    print(type(r))\n",
    "    print([a for a in dir(r) if not a.startswith(\"_\")])"
   ]
  },
  {
   "cell_type": "markdown",
   "metadata": {},
   "source": [
    "### Objetos `SeqRecord`, recordar secuencia\n",
    "\n",
    "Si usted tiene un archivo con solo un registro tipo fasta, puede usar la funcion `SeqIO.read()`.\n"
   ]
  },
  {
   "cell_type": "code",
   "execution_count": null,
   "metadata": {},
   "outputs": [],
   "source": [
    "record = SeqIO.read(\"lab06-files/single_plague.fa\", \"fasta\")"
   ]
  },
  {
   "cell_type": "markdown",
   "metadata": {},
   "source": [
    "El objeto `SeqRecords` tiene algunos atributos interesantes."
   ]
  },
  {
   "cell_type": "code",
   "execution_count": null,
   "metadata": {},
   "outputs": [],
   "source": [
    "print(record)"
   ]
  },
  {
   "cell_type": "markdown",
   "metadata": {},
   "source": [
    "\n",
    "#### `Seq`\n",
    "Contiene un objeto tipo  `Seq`con información de la secuencia."
   ]
  },
  {
   "cell_type": "code",
   "execution_count": null,
   "metadata": {},
   "outputs": [],
   "source": [
    "print(record.seq)"
   ]
  },
  {
   "cell_type": "code",
   "execution_count": null,
   "metadata": {},
   "outputs": [],
   "source": [
    "print(record.id)"
   ]
  },
  {
   "cell_type": "code",
   "execution_count": null,
   "metadata": {},
   "outputs": [],
   "source": [
    "print(record.description)"
   ]
  },
  {
   "cell_type": "markdown",
   "metadata": {},
   "source": [
    "### Crear tus propios `SeqRecord`\n",
    "Tambien podemos crear nuestros propios objetos tipo `SeqRecord`."
   ]
  },
  {
   "cell_type": "code",
   "execution_count": null,
   "metadata": {},
   "outputs": [],
   "source": [
    "from Bio.Seq import Seq\n",
    "from Bio.SeqRecord import SeqRecord\n",
    "from Bio.Alphabet import IUPAC\n",
    "record = SeqRecord(Seq(\"MKQHKAMIVALIVICITAVVAALVTRKDLCEVHIRTGQTEVAVF\",\n",
    "                       IUPAC.protein),\n",
    "                   id=\"YP_025292.1\", name=\"HokC\",\n",
    "                   description=\"toxic membrane protein, small\")\n",
    "print(record)"
   ]
  },
  {
   "cell_type": "markdown",
   "metadata": {},
   "source": [
    "Despues, lo podemos escribir en formato FASTA."
   ]
  },
  {
   "cell_type": "code",
   "execution_count": null,
   "metadata": {},
   "outputs": [],
   "source": [
    "record.format(\"fasta\")"
   ]
  },
  {
   "cell_type": "markdown",
   "metadata": {},
   "source": [
    "Y despues guardarlo en un archivo. \n",
    "\n",
    "Entonces ya sabemos como leer información de secuencias y tambien producir nuestros propios registros de secuencias y guardarlos"
   ]
  },
  {
   "cell_type": "code",
   "execution_count": null,
   "metadata": {},
   "outputs": [],
   "source": [
    "with open(\"myfasta.fa\", \"w\") as f:\n",
    "    f.write(record.format(\"fasta\"))\n",
    "    "
   ]
  },
  {
   "cell_type": "markdown",
   "metadata": {},
   "source": [
    "## Trabajando con formatos  `EMBL ó Genbank`\n",
    "La mayoria de las veces los archivos GenBank contienen un solo record para un cromosoma o plasmido. asi que usaremos la funcion SeqIO.read(...) sabiendo que el segundo argumento de esta funcion es el formato del archivo..."
   ]
  },
  {
   "cell_type": "code",
   "execution_count": null,
   "metadata": {},
   "outputs": [],
   "source": [
    "from Bio import SeqIO\n",
    "record=SeqIO.read(\"lab06-files/NC_000913.gbk\", \"genbank\")\n",
    "print(record.id)\n",
    "print(len(record))\n",
    "print(len(record.features))"
   ]
  },
  {
   "cell_type": "markdown",
   "metadata": {},
   "source": [
    "### Features \n",
    "Que son las .features ? -Es una lista Python que contiene un objeto Biopython tipo SeqFeature para \n",
    "cada _característica (feature)_ en el archivo GenBank.\n",
    "Por ejemplo,"
   ]
  },
  {
   "cell_type": "code",
   "execution_count": null,
   "metadata": {},
   "outputs": [],
   "source": [
    "my_gene = record.features[3]\n",
    "print(my_gene)"
   ]
  },
  {
   "cell_type": "markdown",
   "metadata": {},
   "source": [
    "Hacer una impresión como esta intenta dar una pantalla legible. Hay tres propiedades clave,\n",
    "\n",
    "__.type__ que es una cadena como el gen o CDS, \n",
    "\n",
    "__.location__ que describe en qué parte del genoma está esta característica \n",
    "\n",
    "__.qualifiers__ que es un diccionario de Python lleno de todas las anotaciones de la característica (p.ej. \n",
    "identificadores de genes ).\n",
    "\n",
    "\n",
    "Asi es como se ve un gene en formato GenBank\n",
    "\n",
    "gene            337..2799\n",
    "                /gene=\"thrA\"\n",
    "                __/locus_tag__=\"b0002\"\n",
    "                /gene_synonym=\"ECK0002; Hs; JW0001; thrA1; thrA2; thrD\"\n",
    "                /db_xref=\"EcoGene:EG10998\"\n",
    "                /db_xref=\"GeneID:945803\""
   ]
  },
  {
   "cell_type": "markdown",
   "metadata": {},
   "source": [
    "### Locaciones de las caracteristicas - Feature Locations\n",
    "Continuamos con el mismo ejemplo\n"
   ]
  },
  {
   "cell_type": "code",
   "execution_count": null,
   "metadata": {},
   "outputs": [],
   "source": [
    "print(my_gene.qualifiers[\"locus_tag\"])\n",
    "print(my_gene.location)\n",
    "print(my_gene.location.start)\n",
    "print(my_gene.location.end)\n",
    "print(my_gene.location.strand)"
   ]
  },
  {
   "cell_type": "markdown",
   "metadata": {},
   "source": [
    "Recuerde que en el archivo GenBank esta ubicación simple era 337..2799, pero en Biopython se ha convertido en un valor inicial de 336 y 2799 como final. La razón de esto es para que coincida con cómo funciona el conteo de Python, en particular, cómo se corta la cadena de Python. Para extraer esta secuencia del genoma completo necesitamos usar valores de división de 336 y 2799:\n",
    "\n",
    "Esta era una ubicación muy simple en la hebra principal  si hubiera estado en la hebra inversa necesitaría tomar el complemento inverso. Además, si la ubicación hubiera sido una ubicación compuesta más complicada como una unión (utilizada para genes eucarióticos donde el CDS está formado por varios exones), la ubicación tendría que considerar algunas partes secundarias.\n",
    "\n",
    "### Extraer la secuencia \n",
    "\n",
    "Todas estas complicaciones son atendidas por usted a través del método .extract (...) que toma la secuencia completa del registro padre como un argumento:"
   ]
  },
  {
   "cell_type": "code",
   "execution_count": null,
   "metadata": {},
   "outputs": [],
   "source": [
    "gene_seq = my_gene.extract(record.seq)\n",
    "len(gene_seq)\n",
    "print(gene_seq)"
   ]
  },
  {
   "cell_type": "markdown",
   "metadata": {},
   "source": [
    "### Ejercicio: \n",
    "Termine la siguiente secuencia de comandos estableciendo un nombre de caracteristica apropiado como la etiqueta de _locus o el número GI_ (use la información de .qualifiers o .dbxrefs) para extraer todas las __secuencias de codificación__(CDS) del archivo GenBank:\n",
    "\n",
    "\n",
    "Se agrega un condicional para escoger entre qualifiers o dbxrefs"
   ]
  },
  {
   "cell_type": "code",
   "execution_count": null,
   "metadata": {},
   "outputs": [],
   "source": [
    "from Bio import SeqIO\n",
    "record = SeqIO.read(\"lab06-files/NC_000913.gbk\", \"genbank\")\n",
    "output_handle = open(\"NC_000913_cds.fasta\", \"w\")\n",
    "count = 0\n",
    "\n",
    "tipo_name = input(\"Ingrese [1] para qualifiers o [2] para dbxrefs: \")\n",
    "\n",
    "for feature in record.features:\n",
    "    if feature.type == \"CDS\":\n",
    "        count = count + 1\n",
    "        #feature_name = \"...\" # Use feature.qualifiers or feature.dbxrefs here\n",
    "        if(tipo_name == 1):\n",
    "            feature_name = feature.qualifiers  #calificadores\n",
    "        if(tipo_name == 2):\n",
    "            feature_name = feature.dbxrefs\n",
    "            \n",
    "        feature_seq = feature.extract(record.seq)\n",
    "        # Simple FASTA output without line wrapping:\n",
    "        output_handle.write(\">\" + str(feature_name) + \"\\n\" + str(feature_seq) + \"\\n\")\n",
    "output_handle.close()\n",
    "print(str(count) + \" CDS sequences extracted\")"
   ]
  },
  {
   "cell_type": "markdown",
   "metadata": {},
   "source": [
    "Verifique sus secuencias usando el archivo FASTA de NCBI provisto:  NC_000913.ffn\n",
    "###  Ejercicio: Puede recrear el esquema de nombres de NCBI como se usa en  NC_000913.ffn?\n",
    "\n",
    "Usamos __SeqIO.parse()__ para leer los archivos `.fnn`, optenemos algunos features directamente del record utilizando record.name y record.seq, si bien los formatos son diferentes pertenecen a un mismo nucleotido NC_000913, __se pudo recrear__.\n"
   ]
  },
  {
   "cell_type": "code",
   "execution_count": null,
   "metadata": {},
   "outputs": [],
   "source": [
    "from Bio import SeqIO\n",
    "record = SeqIO.parse(\"lab06-files/NC_000913.ffn\", \"fasta\")\n",
    "output_handle = open(\"NC_000913_ffn.fasta\", \"w\")\n",
    "count = 0\n",
    "\n",
    "for r in record:\n",
    "    #if feature.id != \"CDS\":\n",
    "    count = count + 1\n",
    "    r_name = r.name\n",
    "    r_seq = r.seq\n",
    "    \n",
    "    # Simple FASTA output without line wrapping:\n",
    "    output_handle.write(\">\" + str(r_name) + \"\\n\" + str(r_seq) + \"\\n\")\n",
    "output_handle.close()\n",
    "\n",
    "print(str(count) + \" CDS sequences extracted\")"
   ]
  },
  {
   "cell_type": "markdown",
   "metadata": {},
   "source": [
    "### Longitud de caracteristicas\n",
    "La longitud de los objetos SeqFeature de Biopython (y los objetos de ubicación) se define como la longitud de la región de secuencia que describen (es decir, cuántas bases están incluidas; o para la anotación de proteínas, cuántos aminoácidos)."
   ]
  },
  {
   "cell_type": "code",
   "execution_count": null,
   "metadata": {},
   "outputs": [],
   "source": [
    "len(my_gene)"
   ]
  },
  {
   "cell_type": "markdown",
   "metadata": {},
   "source": [
    "Este ejemplo recorre todas las funciones en busca de registros de  genes y calcula su longitud total:"
   ]
  },
  {
   "cell_type": "code",
   "execution_count": null,
   "metadata": {},
   "outputs": [],
   "source": [
    "from Bio import SeqIO\n",
    "record = SeqIO.read(\"lab06-files/NC_000913.gbk\", \"genbank\")\n",
    "total = 0\n",
    "for feature in record.features:\n",
    "    if feature.type == \"gene\":\n",
    "        total = total + len(feature)\n",
    "print(\"Total length of all genes is \" + str(total))"
   ]
  },
  {
   "cell_type": "markdown",
   "metadata": {},
   "source": [
    "### Ejercicio: dar un recuento por separado para cada tipo de caracteristica. Use un diccionario donde los indices son el tipo de caracteristica  (por ejemplo, \"gen\" y \"CDS\") y los valores son el recuento para ese tipo."
   ]
  },
  {
   "cell_type": "markdown",
   "metadata": {
    "collapsed": true
   },
   "source": [
    "###Tarea:\n",
    "4. Modificar el Notebook y Agregar los  ejercicios solicitados.\n",
    "5. Crear un archivo C471-lab06-Nombre y Apellido.zip que contenga el Notebook modificado, y los archivos creados."
   ]
  },
  {
   "cell_type": "code",
   "execution_count": 54,
   "metadata": {},
   "outputs": [
    {
     "name": "stdout",
     "output_type": "stream",
     "text": [
      "1) source\n",
      "\n",
      "2) CDS\n",
      "\n",
      "3) misc_feature\n",
      "\n",
      "4) gene\n",
      "\n",
      "5) ncRNA\n",
      "\n",
      "6) tRNA\n",
      "\n",
      "7) mobile_element\n",
      "\n",
      "8) STS\n",
      "\n",
      "9) repeat_region\n",
      "\n",
      "10) Taxon\n",
      "Ingrese un tipo de feature (numero): 5\n",
      "Se creo el archivo Re_count_features/NC_00913_Feature_ncRNA.fasta\n",
      "\n",
      "65  ncRNA sequences extracted\n"
     ]
    }
   ],
   "source": [
    "from Bio import SeqIO\n",
    "record = SeqIO.read(\"lab06-files/NC_000913.gbk\", \"genbank\")\n",
    "output_handle = open(\"NC_000913_Re_count_Feature.fasta\", \"w\")\n",
    "\n",
    "count = 0\n",
    "\n",
    "f = open(\"Re_count_features/Dictionary_Features.txt\", \"r\")\n",
    "\n",
    "#lista de features\n",
    "feature_list = []\n",
    "\n",
    "#Mostrar el indice:\n",
    "cont = 0\n",
    "for x in f:\n",
    "    cont +=1\n",
    "    feature_list.append(x)\n",
    "    print(\"{}) {}\".format(cont, x))\n",
    "    \n",
    "type_feature = int(input(\"Ingrese un tipo de feature (numero): \"))\n",
    "type_feature = feature_list[type_feature-1] \n",
    "type_feature = type_feature[:-1] #eliminar salto de linea\n",
    "\n",
    "\n",
    "\n",
    "direccion = 'Re_count_features/NC_00913_Feature_{}.fasta'.format(type_feature)  # agregar type_feature\n",
    "#-------- Escribir en el archivo---------------\n",
    "\n",
    "output_handle = open(direccion, \"w\")\n",
    "count = 0\n",
    "\n",
    "for feature in record.features:\n",
    "    if feature.type == str(type_feature):\n",
    "        count = count + 1\n",
    "        \n",
    "        feature_name = feature.type    \n",
    "        feature_seq = feature.extract(record.seq)\n",
    "        # Simple FASTA output w\n",
    "        output_handle.write(\">\" + str(feature_name) + \"\\n\" + str(feature_seq) + \"\\n\")\n",
    "\n",
    "output_handle.close()\n",
    "#------------ Cerrar el archivo---------------------\n",
    "print(\"Se creo el archivo {}\\n\".format(direccion))\n",
    "print(\"{}  {} sequences extracted\".format(str(count), type_feature))\n"
   ]
  }
 ],
 "metadata": {
  "anaconda-cloud": {},
  "kernelspec": {
   "display_name": "Python 3",
   "language": "python",
   "name": "python3"
  },
  "language_info": {
   "codemirror_mode": {
    "name": "ipython",
    "version": 3
   },
   "file_extension": ".py",
   "mimetype": "text/x-python",
   "name": "python",
   "nbconvert_exporter": "python",
   "pygments_lexer": "ipython3",
   "version": "3.6.4"
  }
 },
 "nbformat": 4,
 "nbformat_minor": 2
}
