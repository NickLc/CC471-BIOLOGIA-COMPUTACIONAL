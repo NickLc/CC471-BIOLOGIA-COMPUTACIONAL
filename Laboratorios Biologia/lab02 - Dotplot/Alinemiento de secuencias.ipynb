{
 "cells": [
  {
   "cell_type": "markdown",
   "metadata": {},
   "source": [
    "# Alineamiento de secuencias\n",
    "## 1. Encontrar coincidencias"
   ]
  },
  {
   "cell_type": "code",
   "execution_count": 1,
   "metadata": {},
   "outputs": [],
   "source": [
    "def encontrar_gaps(secuencia1, secuencia2):\n",
    "    \"\"\"Muestra las coincidencia entre dos secuencias\"\"\"\n",
    "    interseccion = []\n",
    "    x = 0\n",
    "    for i in secuencia1:\n",
    "        if i == secuencia2[x]:\n",
    "            interseccion.append('|')\n",
    "        else:\n",
    "            interseccion.append(' ')\n",
    "        x = x + 1\n",
    "\n",
    "    print(''.join(secuencia1))\n",
    "    print(''.join(interseccion))\n",
    "    print(''.join(secuencia2))"
   ]
  },
  {
   "cell_type": "code",
   "execution_count": 3,
   "metadata": {},
   "outputs": [
    {
     "name": "stdout",
     "output_type": "stream",
     "text": [
      "ACTGG\n",
      "|||  \n",
      "ACTAA\n"
     ]
    }
   ],
   "source": [
    "# Alinear las siguientes secuencias\n",
    "sec1 = ('ACTGG')\n",
    "sec2 = ('ACTAA')\n",
    "encontrar_gaps(sec1, sec2)"
   ]
  },
  {
   "cell_type": "markdown",
   "metadata": {},
   "source": [
    "## 2. Alineamiento con Dotplot "
   ]
  },
  {
   "cell_type": "code",
   "execution_count": 35,
   "metadata": {},
   "outputs": [],
   "source": [
    "def dibujar_dotplot(secuencia1, secuencia2):\n",
    "    \"\"\"Muetra las coincidencias entre dos \n",
    "    secuencias con un punto, en caso no haber no muestra nada\"\"\"\n",
    "    #interseecion lista que reune las coincidencias\n",
    "    interseccion = []\n",
    "    \n",
    "    #join - conviete la lista a String, une la secuencua con un separador ' ' \n",
    "    print(' ',' '.join(secuencia2))      #Secuencia 2 en horizontal\n",
    "\n",
    "    for i in secuencia1:\n",
    "        interseccion.append(i)          #Secuencia 1 en vertical\n",
    "        for j in secuencia2:\n",
    "            if i == j:\n",
    "                interseccion.append(' •')\n",
    "            else:\n",
    "                interseccion.append('  ')   \n",
    "        print(''.join(interseccion))\n",
    "        interseccion = []\n"
   ]
  },
  {
   "cell_type": "markdown",
   "metadata": {},
   "source": [
    "### Pregunta 1.2"
   ]
  },
  {
   "cell_type": "code",
   "execution_count": 36,
   "metadata": {},
   "outputs": [
    {
     "name": "stdout",
     "output_type": "stream",
     "text": [
      "  T G A G A G T T G A C A G T T G A C A G T\n",
      "T •           • •           • •           •\n",
      "G   •   •   •     •       •     •       •  \n",
      "A     •   •         •   •         •   •    \n",
      "G   •   •   •     •       •     •       •  \n",
      "A     •   •         •   •         •   •    \n",
      "G   •   •   •     •       •     •       •  \n",
      "T •           • •           • •           •\n",
      "T •           • •           • •           •\n",
      "G   •   •   •     •       •     •       •  \n",
      "A     •   •         •   •         •   •    \n",
      "C                     •             •      \n",
      "A     •   •         •   •         •   •    \n",
      "G   •   •   •     •       •     •       •  \n",
      "T •           • •           • •           •\n",
      "T •           • •           • •           •\n",
      "G   •   •   •     •       •     •       •  \n",
      "A     •   •         •   •         •   •    \n",
      "C                     •             •      \n",
      "A     •   •         •   •         •   •    \n",
      "G   •   •   •     •       •     •       •  \n",
      "T •           • •           • •           •\n"
     ]
    }
   ],
   "source": [
    "sec1 = ('TGAGAGTTGACAGTTGACAGT')\n",
    "sec2 = sec1\n",
    "dibujar_dotplot(sec1, sec2)"
   ]
  },
  {
   "cell_type": "markdown",
   "metadata": {},
   "source": [
    "### Pregunta 1.3"
   ]
  },
  {
   "cell_type": "code",
   "execution_count": 7,
   "metadata": {},
   "outputs": [
    {
     "name": "stdout",
     "output_type": "stream",
     "text": [
      "  A C T A A C T G G T C A A T C A\n",
      "A •     • •             • •     •\n",
      "C   •       •         •       •  \n",
      "T     •       •     •       •    \n",
      "G               • •              \n",
      "G               • •              \n",
      "T     •       •     •       •    \n",
      "C   •       •         •       •  \n",
      "A •     • •             • •     •\n",
      "A •     • •             • •     •\n",
      "C   •       •         •       •  \n",
      "T     •       •     •       •    \n",
      "G               • •              \n",
      "G               • •              \n",
      "T     •       •     •       •    \n",
      "C   •       •         •       •  \n",
      "A •     • •             • •     •\n"
     ]
    }
   ],
   "source": [
    "sec1 = ('ACTGGTCAACTGGTCA')\n",
    "sec2 = ('ACTAACTGGTCAATCA')\n",
    "dibujar_dotplot(sec1, sec2)"
   ]
  },
  {
   "cell_type": "markdown",
   "metadata": {},
   "source": [
    "## 2. Realizar Alineamientos\n",
    "El mejor alineamiento sera aquel que tenga el mayor __score__.\n",
    "### 2.1 Hallando el score\n",
    "Para calcular el score se necesita los parametros __match__, __mismatch__, __gap__.\n",
    "\n",
    "Por defecto para __match__ (1), __mismatch__ (-1) y __gap__ (-2), calcule el score para cada uno de los siguientes alineamientos:"
   ]
  },
  {
   "cell_type": "code",
   "execution_count": 8,
   "metadata": {},
   "outputs": [],
   "source": [
    "def hallarScore(secuencia1,  secuencia2):\n",
    "    match = 1\n",
    "    mismatch = -1\n",
    "    gap = -2\n",
    "    #Valores iniciales\n",
    "    score = 0\n",
    "    x = 0\n",
    "    for i in secuencia1:\n",
    "        if i == secuencia2[x]:  \n",
    "            score += match\n",
    "        elif i=='-' or secuencia2[x]=='-':\n",
    "            score += gap\n",
    "        else:\n",
    "            score += mismatch\n",
    "        x = x + 1\n",
    "    return score"
   ]
  },
  {
   "cell_type": "markdown",
   "metadata": {},
   "source": [
    "### Pregunta 2.1\n",
    "Encontra la mejor mejor alineacion de los siguientes secuencias:\n"
   ]
  },
  {
   "cell_type": "code",
   "execution_count": 13,
   "metadata": {},
   "outputs": [
    {
     "name": "stdout",
     "output_type": "stream",
     "text": [
      "La mejor alineacion es: \n",
      "['GGA--TC', 'GGAAATC']\n"
     ]
    }
   ],
   "source": [
    "\n",
    "Par_1_sec = ('GG-A-TC', 'GGAAATC')\n",
    "Par_2_sec = ['GGA--TC', 'GGAAATC']\n",
    "\n",
    "score1 = hallarScore(Par_1_sec[0],Par_1_sec[1])\n",
    "score2 = hallarScore(Par_2_sec[0],Par_2_sec[1])\n",
    "\n",
    "print(\"La mejor alineacion es: \")\n",
    "if (score1 > score2) : print(Par_1_sec)\n",
    "else : print(Par_2_sec)\n"
   ]
  },
  {
   "cell_type": "markdown",
   "metadata": {},
   "source": [
    "## 4. Leer secuencias desde un archivo"
   ]
  },
  {
   "cell_type": "code",
   "execution_count": 15,
   "metadata": {},
   "outputs": [],
   "source": [
    "def leer_sec(direccion):\n",
    "    \"\"\"Lee una secuencia a partir de un archivo.txt, retorna la secuencia\"\"\"\n",
    "    f = open (direccion,'r')\n",
    "    secuencia = f.read()\n",
    "    print('Read', direccion)\n",
    "    f.close()\n",
    "    return secuencia"
   ]
  },
  {
   "cell_type": "markdown",
   "metadata": {},
   "source": [
    "## 5. Guardar Dotplot en un archivo"
   ]
  },
  {
   "cell_type": "code",
   "execution_count": 41,
   "metadata": {},
   "outputs": [],
   "source": [
    "def guardar_dotplot(secuencia1, secuencia2, direccion):\n",
    "    \"\"\"Realiza el dotplot de dos secuencias y lo guarda en un archivo de texto\"\"\"\n",
    "    file = open(direccion, \"w\")\n",
    "    interseccion = []\n",
    "    #===============================================================\n",
    "    file.write('  '+' '.join(secuencia2)+'\\n')\n",
    "\n",
    "    for i in secuencia1:\n",
    "        interseccion.append(i)          #Secuencia 1 en vertical\n",
    "        for j in secuencia2:\n",
    "            if i == j:\n",
    "                interseccion.append(' •')\n",
    "            else:\n",
    "                interseccion.append('  ')\n",
    "        file.write(''.join(interseccion)+'\\n')\n",
    "        interseccion = []\n",
    "\n",
    "  \n",
    "    print('Dot plot creado '+ direccion)\n",
    "    file.close()"
   ]
  },
  {
   "cell_type": "markdown",
   "metadata": {},
   "source": [
    "### Pregunta 3"
   ]
  },
  {
   "cell_type": "code",
   "execution_count": 42,
   "metadata": {},
   "outputs": [
    {
     "name": "stdout",
     "output_type": "stream",
     "text": [
      "Read Datos\\secuencia1.txt\n",
      "Read Datos\\secuencia2.txt\n",
      "Dot plot creado Datos\\Dotplot_sec1_sec2.txt\n"
     ]
    }
   ],
   "source": [
    "sec1 = leer_sec('Datos\\secuencia1.txt')\n",
    "sec2 = leer_sec('Datos\\secuencia2.txt')\n",
    "guardar_dotplot(sec1, sec2, direccion='Datos\\Dotplot_sec1_sec2.txt')"
   ]
  }
 ],
 "metadata": {
  "kernelspec": {
   "display_name": "Python 3",
   "language": "python",
   "name": "python3"
  },
  "language_info": {
   "codemirror_mode": {
    "name": "ipython",
    "version": 3
   },
   "file_extension": ".py",
   "mimetype": "text/x-python",
   "name": "python",
   "nbconvert_exporter": "python",
   "pygments_lexer": "ipython3",
   "version": "3.6.4"
  }
 },
 "nbformat": 4,
 "nbformat_minor": 2
}
