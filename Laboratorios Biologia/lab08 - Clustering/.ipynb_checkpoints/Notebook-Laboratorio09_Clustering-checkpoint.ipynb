{
 "cells": [
  {
   "cell_type": "markdown",
   "metadata": {},
   "source": [
    "# Clustering \n",
    "\n",
    "### Leer archivos \n",
    "En el archivo TablaEjemplo.txt hay una tabla mínima con datos inventados. La tabla contiene para cuatro genes (A, B, C y D) su nivel de expresión a las 0hs, 1hs y 2 hs luego de algún tratamiento.\n",
    "\n",
    "Lo primero que vamos a hacer en R es cargar los datos de la tabla de ejemplo\n",
    "__TablaEjemplo.txt.__ Para esto tipear:"
   ]
  },
  {
   "cell_type": "code",
   "execution_count": 1,
   "metadata": {},
   "outputs": [
    {
     "data": {
      "text/html": [
       "<table>\n",
       "<thead><tr><th></th><th scope=col>X0</th><th scope=col>X1</th><th scope=col>X2</th></tr></thead>\n",
       "<tbody>\n",
       "\t<tr><th scope=row>genA</th><td> 2</td><td> 4</td><td> 8</td></tr>\n",
       "\t<tr><th scope=row>genB</th><td>-1</td><td>-1</td><td>-2</td></tr>\n",
       "\t<tr><th scope=row>genC</th><td>-2</td><td> 0</td><td> 1</td></tr>\n",
       "\t<tr><th scope=row>genD</th><td> 0</td><td>-1</td><td>-6</td></tr>\n",
       "</tbody>\n",
       "</table>\n"
      ],
      "text/latex": [
       "\\begin{tabular}{r|lll}\n",
       "  & X0 & X1 & X2\\\\\n",
       "\\hline\n",
       "\tgenA &  2 &  4 &  8\\\\\n",
       "\tgenB & -1 & -1 & -2\\\\\n",
       "\tgenC & -2 &  0 &  1\\\\\n",
       "\tgenD &  0 & -1 & -6\\\\\n",
       "\\end{tabular}\n"
      ],
      "text/markdown": [
       "\n",
       "| <!--/--> | X0 | X1 | X2 | \n",
       "|---|---|---|---|\n",
       "| genA |  2 |  4 |  8 | \n",
       "| genB | -1 | -1 | -2 | \n",
       "| genC | -2 |  0 |  1 | \n",
       "| genD |  0 | -1 | -6 | \n",
       "\n",
       "\n"
      ],
      "text/plain": [
       "     X0 X1 X2\n",
       "genA  2  4  8\n",
       "genB -1 -1 -2\n",
       "genC -2  0  1\n",
       "genD  0 -1 -6"
      ]
     },
     "metadata": {},
     "output_type": "display_data"
    }
   ],
   "source": [
    "MiTabla = read.csv(\"data/TablaEjemplo.txt\", sep=\"\\t\", row.names=\"gen\")\n",
    "MiTabla"
   ]
  },
  {
   "cell_type": "markdown",
   "metadata": {},
   "source": [
    "\n",
    "Lo que hicimos acá, fue leer el archivo de texto TablaEjemplo.txt utilizando la función __read.csv()__ de R (csv -- comma separated values -- es la extensión que suele usarse para nombrar archivos de texto conteniendo valores separados por algún delimitador, que comunmente es una coma, o un caracter de tabulación). Además del nombre del archivo, la función __read.csv__ nos permite declarar cual es el separador de campos (en este caso son tabulaciones, que se indican como __\\t__), y cual es la columna que contiene los identificadores para las filas (\"gen\" es el nombre de esta columna en nuestro ejemplo). Finalmente, notar que el __resultado__ de ejecutar la función __read.csv__ se está almacenando en la variable _MiTabla_.\n",
    "\n",
    "## Clustering sin estandarizar datos\n",
    "### Calcular una matriz de distancias\n",
    "A continuación vamos a utilizar la función __dist__ para __calcular una matriz de distancias__ a partir de los datos de la tabla. Recordar que estos datos ya están cargados en una variable que se llama MiTabla."
   ]
  },
  {
   "cell_type": "code",
   "execution_count": 2,
   "metadata": {},
   "outputs": [
    {
     "data": {
      "text/plain": [
       "          genA      genB      genC\n",
       "genB 11.575837                    \n",
       "genC  9.000000  3.316625          \n",
       "genD 15.000000  4.123106  7.348469"
      ]
     },
     "metadata": {},
     "output_type": "display_data"
    }
   ],
   "source": [
    "MisDistancias = dist(MiTabla, method=\"euclidean\")\n",
    "MisDistancias"
   ]
  },
  {
   "cell_type": "markdown",
   "metadata": {},
   "source": [
    "### Agrupacion de genes\n",
    "Seguidamente vamos agrupar en __forma jerárquica__ a los genes, de acuerdo a esta matriz de distancias, utilizando la función __hclust()__"
   ]
  },
  {
   "cell_type": "code",
   "execution_count": 3,
   "metadata": {},
   "outputs": [
    {
     "data": {
      "text/plain": [
       "\n",
       "Call:\n",
       "hclust(d = MisDistancias, method = \"complete\")\n",
       "\n",
       "Cluster method   : complete \n",
       "Distance         : euclidean \n",
       "Number of objects: 4 \n"
      ]
     },
     "metadata": {},
     "output_type": "display_data"
    }
   ],
   "source": [
    "MiClusteringJerarquico = hclust(MisDistancias, method = \"complete\")\n",
    "MiClusteringJerarquico"
   ]
  },
  {
   "cell_type": "markdown",
   "metadata": {},
   "source": [
    "En este caso complete = __complete linkage__, single = __single linkage__ (o vecino mas cercano), average = promedio.\n",
    "\n",
    "### Graficar el dendograma\n",
    "Para graficar el __resultado de este agrupamiento__ utilizamos la función __plot()__, grafica el dendograma que resulta del clustering jerarquico."
   ]
  },
  {
   "cell_type": "code",
   "execution_count": 4,
   "metadata": {},
   "outputs": [
    {
     "data": {
      "image/png": "[encoded data removed]",
      "text/plain": [
       "Plot with title \"Cluster Dendrogram\""
      ]
     },
     "metadata": {},
     "output_type": "display_data"
    }
   ],
   "source": [
    "plot(MiClusteringJerarquico)"
   ]
  },
  {
   "cell_type": "markdown",
   "metadata": {},
   "source": [
    "#### Exportando graficos\n",
    "Los gráficos de R se pueden exportar a PDF y aJPEG facilmente:"
   ]
  },
  {
   "cell_type": "code",
   "execution_count": 5,
   "metadata": {},
   "outputs": [
    {
     "ename": "ERROR",
     "evalue": "Error in pdf(\"data/Resultados/dendograma.pdf\"): cannot open file 'data/Resultados/dendograma.pdf'\n",
     "output_type": "error",
     "traceback": [
      "Error in pdf(\"data/Resultados/dendograma.pdf\"): cannot open file 'data/Resultados/dendograma.pdf'\nTraceback:\n",
      "1. pdf(\"data/Resultados/dendograma.pdf\")"
     ]
    }
   ],
   "source": [
    "pdf(\"data/Resultados/dendograma.pdf\") #alternativamente >jpeg(\"MiImagen.jpeg\")\n",
    "plot(MiClusteringJerarquico) # el plot se escribe en el PDF (no se muestra en pantalla!)\n",
    "dev.off() # cierra el archivo, los próximos plots volverán a ser mostrados en pantalla"
   ]
  },
  {
   "cell_type": "markdown",
   "metadata": {},
   "source": [
    "## Estandarizar datos\n",
    "Ahora vamos a repetir el analisis, estandarizando los datos de expresión disponble para cada gen, de manera de que todos los valores de experesion se encuentren en la __misma escala__ y __centrados en cero__.\n",
    "#### t()\n",
    "Primero necesitamos transponer la matriz de datos, las columanas pasen a ser filas y vicercersa."
   ]
  },
  {
   "cell_type": "code",
   "execution_count": 6,
   "metadata": {},
   "outputs": [
    {
     "name": "stdout",
     "output_type": "stream",
     "text": [
      "[1] \"Tabla al inicio:\"\n"
     ]
    },
    {
     "data": {
      "text/html": [
       "<table>\n",
       "<thead><tr><th></th><th scope=col>X0</th><th scope=col>X1</th><th scope=col>X2</th></tr></thead>\n",
       "<tbody>\n",
       "\t<tr><th scope=row>genA</th><td> 2</td><td> 4</td><td> 8</td></tr>\n",
       "\t<tr><th scope=row>genB</th><td>-1</td><td>-1</td><td>-2</td></tr>\n",
       "\t<tr><th scope=row>genC</th><td>-2</td><td> 0</td><td> 1</td></tr>\n",
       "\t<tr><th scope=row>genD</th><td> 0</td><td>-1</td><td>-6</td></tr>\n",
       "</tbody>\n",
       "</table>\n"
      ],
      "text/latex": [
       "\\begin{tabular}{r|lll}\n",
       "  & X0 & X1 & X2\\\\\n",
       "\\hline\n",
       "\tgenA &  2 &  4 &  8\\\\\n",
       "\tgenB & -1 & -1 & -2\\\\\n",
       "\tgenC & -2 &  0 &  1\\\\\n",
       "\tgenD &  0 & -1 & -6\\\\\n",
       "\\end{tabular}\n"
      ],
      "text/markdown": [
       "\n",
       "| <!--/--> | X0 | X1 | X2 | \n",
       "|---|---|---|---|\n",
       "| genA |  2 |  4 |  8 | \n",
       "| genB | -1 | -1 | -2 | \n",
       "| genC | -2 |  0 |  1 | \n",
       "| genD |  0 | -1 | -6 | \n",
       "\n",
       "\n"
      ],
      "text/plain": [
       "     X0 X1 X2\n",
       "genA  2  4  8\n",
       "genB -1 -1 -2\n",
       "genC -2  0  1\n",
       "genD  0 -1 -6"
      ]
     },
     "metadata": {},
     "output_type": "display_data"
    }
   ],
   "source": [
    "print(\"Tabla al inicio:\")\n",
    "MiTabla"
   ]
  },
  {
   "cell_type": "code",
   "execution_count": 7,
   "metadata": {},
   "outputs": [
    {
     "name": "stdout",
     "output_type": "stream",
     "text": [
      "[1] \"Tabla transpuesta:\"\n"
     ]
    },
    {
     "data": {
      "text/html": [
       "<table>\n",
       "<thead><tr><th></th><th scope=col>genA</th><th scope=col>genB</th><th scope=col>genC</th><th scope=col>genD</th></tr></thead>\n",
       "<tbody>\n",
       "\t<tr><th scope=row>X0</th><td>2 </td><td>-1</td><td>-2</td><td> 0</td></tr>\n",
       "\t<tr><th scope=row>X1</th><td>4 </td><td>-1</td><td> 0</td><td>-1</td></tr>\n",
       "\t<tr><th scope=row>X2</th><td>8 </td><td>-2</td><td> 1</td><td>-6</td></tr>\n",
       "</tbody>\n",
       "</table>\n"
      ],
      "text/latex": [
       "\\begin{tabular}{r|llll}\n",
       "  & genA & genB & genC & genD\\\\\n",
       "\\hline\n",
       "\tX0 & 2  & -1 & -2 &  0\\\\\n",
       "\tX1 & 4  & -1 &  0 & -1\\\\\n",
       "\tX2 & 8  & -2 &  1 & -6\\\\\n",
       "\\end{tabular}\n"
      ],
      "text/markdown": [
       "\n",
       "| <!--/--> | genA | genB | genC | genD | \n",
       "|---|---|---|\n",
       "| X0 | 2  | -1 | -2 |  0 | \n",
       "| X1 | 4  | -1 |  0 | -1 | \n",
       "| X2 | 8  | -2 |  1 | -6 | \n",
       "\n",
       "\n"
      ],
      "text/plain": [
       "   genA genB genC genD\n",
       "X0 2    -1   -2    0  \n",
       "X1 4    -1    0   -1  \n",
       "X2 8    -2    1   -6  "
      ]
     },
     "metadata": {},
     "output_type": "display_data"
    }
   ],
   "source": [
    "MiTablaTranspuesta = t(MiTabla)\n",
    "print(\"Tabla transpuesta:\")\n",
    "MiTablaTranspuesta"
   ]
  },
  {
   "cell_type": "markdown",
   "metadata": {},
   "source": [
    "#### scale()\n",
    "__R__ cuenta con la función scale() para estandarizar datos. El problema es que esta funcion __estandariza por columnas__, y nosotros necesitamos hacerlo por filas."
   ]
  },
  {
   "cell_type": "code",
   "execution_count": 8,
   "metadata": {},
   "outputs": [
    {
     "data": {
      "text/html": [
       "<table>\n",
       "<thead><tr><th></th><th scope=col>genA</th><th scope=col>genB</th><th scope=col>genC</th><th scope=col>genD</th></tr></thead>\n",
       "<tbody>\n",
       "\t<tr><th scope=row>X0</th><td>-0.8728716</td><td> 0.5773503</td><td>-1.0910895</td><td> 0.7258662</td></tr>\n",
       "\t<tr><th scope=row>X1</th><td>-0.2182179</td><td> 0.5773503</td><td> 0.2182179</td><td> 0.4147807</td></tr>\n",
       "\t<tr><th scope=row>X2</th><td> 1.0910895</td><td>-1.1547005</td><td> 0.8728716</td><td>-1.1406469</td></tr>\n",
       "</tbody>\n",
       "</table>\n"
      ],
      "text/latex": [
       "\\begin{tabular}{r|llll}\n",
       "  & genA & genB & genC & genD\\\\\n",
       "\\hline\n",
       "\tX0 & -0.8728716 &  0.5773503 & -1.0910895 &  0.7258662\\\\\n",
       "\tX1 & -0.2182179 &  0.5773503 &  0.2182179 &  0.4147807\\\\\n",
       "\tX2 &  1.0910895 & -1.1547005 &  0.8728716 & -1.1406469\\\\\n",
       "\\end{tabular}\n"
      ],
      "text/markdown": [
       "\n",
       "| <!--/--> | genA | genB | genC | genD | \n",
       "|---|---|---|\n",
       "| X0 | -0.8728716 |  0.5773503 | -1.0910895 |  0.7258662 | \n",
       "| X1 | -0.2182179 |  0.5773503 |  0.2182179 |  0.4147807 | \n",
       "| X2 |  1.0910895 | -1.1547005 |  0.8728716 | -1.1406469 | \n",
       "\n",
       "\n"
      ],
      "text/plain": [
       "   genA       genB       genC       genD      \n",
       "X0 -0.8728716  0.5773503 -1.0910895  0.7258662\n",
       "X1 -0.2182179  0.5773503  0.2182179  0.4147807\n",
       "X2  1.0910895 -1.1547005  0.8728716 -1.1406469"
      ]
     },
     "metadata": {},
     "output_type": "display_data"
    }
   ],
   "source": [
    "#Estandarizamos los datos\n",
    "MiTablaEstandarizada = scale(MiTablaTranspuesta)\n",
    "MiTablaEstandarizada"
   ]
  },
  {
   "cell_type": "code",
   "execution_count": 9,
   "metadata": {},
   "outputs": [
    {
     "data": {
      "text/html": [
       "<table>\n",
       "<thead><tr><th></th><th scope=col>X0</th><th scope=col>X1</th><th scope=col>X2</th></tr></thead>\n",
       "<tbody>\n",
       "\t<tr><th scope=row>genA</th><td>-0.8728716</td><td>-0.2182179</td><td> 1.0910895</td></tr>\n",
       "\t<tr><th scope=row>genB</th><td> 0.5773503</td><td> 0.5773503</td><td>-1.1547005</td></tr>\n",
       "\t<tr><th scope=row>genC</th><td>-1.0910895</td><td> 0.2182179</td><td> 0.8728716</td></tr>\n",
       "\t<tr><th scope=row>genD</th><td> 0.7258662</td><td> 0.4147807</td><td>-1.1406469</td></tr>\n",
       "</tbody>\n",
       "</table>\n"
      ],
      "text/latex": [
       "\\begin{tabular}{r|lll}\n",
       "  & X0 & X1 & X2\\\\\n",
       "\\hline\n",
       "\tgenA & -0.8728716 & -0.2182179 &  1.0910895\\\\\n",
       "\tgenB &  0.5773503 &  0.5773503 & -1.1547005\\\\\n",
       "\tgenC & -1.0910895 &  0.2182179 &  0.8728716\\\\\n",
       "\tgenD &  0.7258662 &  0.4147807 & -1.1406469\\\\\n",
       "\\end{tabular}\n"
      ],
      "text/markdown": [
       "\n",
       "| <!--/--> | X0 | X1 | X2 | \n",
       "|---|---|---|---|\n",
       "| genA | -0.8728716 | -0.2182179 |  1.0910895 | \n",
       "| genB |  0.5773503 |  0.5773503 | -1.1547005 | \n",
       "| genC | -1.0910895 |  0.2182179 |  0.8728716 | \n",
       "| genD |  0.7258662 |  0.4147807 | -1.1406469 | \n",
       "\n",
       "\n"
      ],
      "text/plain": [
       "     X0         X1         X2        \n",
       "genA -0.8728716 -0.2182179  1.0910895\n",
       "genB  0.5773503  0.5773503 -1.1547005\n",
       "genC -1.0910895  0.2182179  0.8728716\n",
       "genD  0.7258662  0.4147807 -1.1406469"
      ]
     },
     "metadata": {},
     "output_type": "display_data"
    }
   ],
   "source": [
    "#Volver a transpone la tabla estandarizada\n",
    "MiTablaEstandarizada = t(MiTablaEstandarizada)\n",
    "MiTablaEstandarizada"
   ]
  },
  {
   "cell_type": "markdown",
   "metadata": {},
   "source": [
    "## Clustering estandarizando datos\n",
    "#### Concatenacion de funciones\n",
    "Todo lo anterior de __estandarizacion de datos__ se puede hacer con la __concatenacion de funciones__ en tres paso (transponer la tabla, noramlizar y volverla a tranponer):"
   ]
  },
  {
   "cell_type": "code",
   "execution_count": 10,
   "metadata": {},
   "outputs": [
    {
     "data": {
      "text/html": [
       "<table>\n",
       "<thead><tr><th></th><th scope=col>X0</th><th scope=col>X1</th><th scope=col>X2</th></tr></thead>\n",
       "<tbody>\n",
       "\t<tr><th scope=row>genA</th><td>-0.8728716</td><td>-0.2182179</td><td> 1.0910895</td></tr>\n",
       "\t<tr><th scope=row>genB</th><td> 0.5773503</td><td> 0.5773503</td><td>-1.1547005</td></tr>\n",
       "\t<tr><th scope=row>genC</th><td>-1.0910895</td><td> 0.2182179</td><td> 0.8728716</td></tr>\n",
       "\t<tr><th scope=row>genD</th><td> 0.7258662</td><td> 0.4147807</td><td>-1.1406469</td></tr>\n",
       "</tbody>\n",
       "</table>\n"
      ],
      "text/latex": [
       "\\begin{tabular}{r|lll}\n",
       "  & X0 & X1 & X2\\\\\n",
       "\\hline\n",
       "\tgenA & -0.8728716 & -0.2182179 &  1.0910895\\\\\n",
       "\tgenB &  0.5773503 &  0.5773503 & -1.1547005\\\\\n",
       "\tgenC & -1.0910895 &  0.2182179 &  0.8728716\\\\\n",
       "\tgenD &  0.7258662 &  0.4147807 & -1.1406469\\\\\n",
       "\\end{tabular}\n"
      ],
      "text/markdown": [
       "\n",
       "| <!--/--> | X0 | X1 | X2 | \n",
       "|---|---|---|---|\n",
       "| genA | -0.8728716 | -0.2182179 |  1.0910895 | \n",
       "| genB |  0.5773503 |  0.5773503 | -1.1547005 | \n",
       "| genC | -1.0910895 |  0.2182179 |  0.8728716 | \n",
       "| genD |  0.7258662 |  0.4147807 | -1.1406469 | \n",
       "\n",
       "\n"
      ],
      "text/plain": [
       "     X0         X1         X2        \n",
       "genA -0.8728716 -0.2182179  1.0910895\n",
       "genB  0.5773503  0.5773503 -1.1547005\n",
       "genC -1.0910895  0.2182179  0.8728716\n",
       "genD  0.7258662  0.4147807 -1.1406469"
      ]
     },
     "metadata": {},
     "output_type": "display_data"
    }
   ],
   "source": [
    "MiTablaSTD = t(scale(t(MiTabla)))\n",
    "MiTablaSTD"
   ]
  },
  {
   "cell_type": "markdown",
   "metadata": {},
   "source": [
    "Ahora vamos a repetir el proceso, pero utilizando la tabla de datos estandarizada MiTablaSTD.\n",
    "- Calcular la matriz de distancias __dist__\n",
    "- Realizar el clustering __hclust__\n",
    "- Graficar el dendograma __plot__\n"
   ]
  },
  {
   "cell_type": "code",
   "execution_count": 11,
   "metadata": {},
   "outputs": [
    {
     "data": {
      "image/png": "[encoded data removed]",
      "text/plain": [
       "Plot with title \"Cluster Dendrogram\""
      ]
     },
     "metadata": {},
     "output_type": "display_data"
    }
   ],
   "source": [
    "MisDistanciasSTD = dist(MiTablaSTD, method=\"euclidean\")\n",
    "MiClusteringJerarquicoSTD = hclust(MisDistanciasSTD, method = \"complete\")\n",
    "plot(MiClusteringJerarquicoSTD)"
   ]
  },
  {
   "cell_type": "markdown",
   "metadata": {},
   "source": [
    "\n",
    "## 2. Datos no estandarizados\n",
    "### Correlación\n",
    "Las distancias basadas en correlación permiten comparar \"tendencias\" en los __datos no estandarizados__, en forma similar a la discancia euclidia con datos previamente estandarizados.\n",
    "### cor()\n",
    "calcula la matriz de __correlaciones__ sobre las columnas. Este coeficiente de correlacion varia entre __1__(genes __perfectamente correlacionados__)  y __-1__(genes __negativa perfecta__) pasando por el __0__(__no hay correracion__ lineal entre ellos) \n",
    "\n",
    "- __dist(1-cor())__\n",
    "\n",
    "Si existe __correlación alta__, la __distancia sea mínima__ y viceversa.\n",
    "\n",
    "- __as.dist()__\n",
    "\n",
    "Convierte la matriz a __formato correcto__ para ser utilizado por las funciones de clustering."
   ]
  },
  {
   "cell_type": "code",
   "execution_count": 12,
   "metadata": {},
   "outputs": [
    {
     "data": {
      "text/plain": [
       "           genA       genB       genC\n",
       "genB 1.94491118                      \n",
       "genC 0.07142857 1.75592895           \n",
       "genD 1.98432414 0.01217084 1.84855529"
      ]
     },
     "metadata": {},
     "output_type": "display_data"
    }
   ],
   "source": [
    "DistanciaCorr = as.dist(1-cor(t(MiTabla)))\n",
    "DistanciaCorr"
   ]
  },
  {
   "cell_type": "markdown",
   "metadata": {},
   "source": [
    "### Visualizar dendograma\n",
    "Inspeccionamos el heatmap que es una imagen que __muestra niveles de expresion__ mas altos como mas calientes o blancos/amarillos y los de menos expresion como mas frios o rojos. \n",
    "- __Colv__ \n",
    "\n",
    "Indica si las columnas (tiempos en este caso) __deben ser agrupadas o reordenadas__ y cómo. Colv= NA(not available), indica que no las reagrupe (respetando el orden natural de la variable tiempo).\n",
    "- __hclust()__ \n",
    "\n",
    "Las filas (genes) van a ser agrupadas utilizando la funcion __hclust()__ con sus opciones por default y la distancia euclidea, a menos que se indique otra cosa.\n",
    "\n",
    "Observando el dendograma de los datos estandarizados y el heatmap, podemos ver que hay dos grupos bien distinguibles de genes. Uno que aumenta su expresión a lo largo del tiempo y el otro que disminuye. "
   ]
  },
  {
   "cell_type": "code",
   "execution_count": 13,
   "metadata": {},
   "outputs": [
    {
     "data": {
      "image/png": "[encoded data removed]",
      "text/plain": [
       "plot without title"
      ]
     },
     "metadata": {},
     "output_type": "display_data"
    }
   ],
   "source": [
    "heatmap(MiTablaSTD, Colv = NA)"
   ]
  },
  {
   "cell_type": "markdown",
   "metadata": {},
   "source": [
    "### Cortar el arbol\n",
    "Podermos cortar el arbol para quedarnos con estos dos grupos a cualquier altura entre ~1 y ~2.5, con la funcion __cutree()__.\n",
    "\n",
    "#### Cortar por altura\n",
    "Cortamos el arbol a la altura de 1.5.\n",
    "\n",
    "Visualizamos a que cluster fue asignado cada gen"
   ]
  },
  {
   "cell_type": "code",
   "execution_count": 14,
   "metadata": {},
   "outputs": [
    {
     "name": "stdout",
     "output_type": "stream",
     "text": [
      "[1] \"Gen cluster\"\n"
     ]
    },
    {
     "data": {
      "text/html": [
       "<dl class=dl-horizontal>\n",
       "\t<dt>genA</dt>\n",
       "\t\t<dd>1</dd>\n",
       "\t<dt>genB</dt>\n",
       "\t\t<dd>2</dd>\n",
       "\t<dt>genC</dt>\n",
       "\t\t<dd>1</dd>\n",
       "\t<dt>genD</dt>\n",
       "\t\t<dd>2</dd>\n",
       "</dl>\n"
      ],
      "text/latex": [
       "\\begin{description*}\n",
       "\\item[genA] 1\n",
       "\\item[genB] 2\n",
       "\\item[genC] 1\n",
       "\\item[genD] 2\n",
       "\\end{description*}\n"
      ],
      "text/markdown": [
       "genA\n",
       ":   1genB\n",
       ":   2genC\n",
       ":   1genD\n",
       ":   2\n",
       "\n"
      ],
      "text/plain": [
       "genA genB genC genD \n",
       "   1    2    1    2 "
      ]
     },
     "metadata": {},
     "output_type": "display_data"
    }
   ],
   "source": [
    "MiCorte = cutree(MiClusteringJerarquicoSTD, h=1.5)\n",
    "print(\"Gen cluster\")\n",
    "MiCorte"
   ]
  },
  {
   "cell_type": "markdown",
   "metadata": {},
   "source": [
    "#### Cortar por numero de clusters\n",
    "Cortamos el arbol a una altura tal que el número de clusters obtemido sea de 2."
   ]
  },
  {
   "cell_type": "code",
   "execution_count": 15,
   "metadata": {},
   "outputs": [
    {
     "data": {
      "text/html": [
       "<dl class=dl-horizontal>\n",
       "\t<dt>genA</dt>\n",
       "\t\t<dd>1</dd>\n",
       "\t<dt>genB</dt>\n",
       "\t\t<dd>2</dd>\n",
       "\t<dt>genC</dt>\n",
       "\t\t<dd>1</dd>\n",
       "\t<dt>genD</dt>\n",
       "\t\t<dd>2</dd>\n",
       "</dl>\n"
      ],
      "text/latex": [
       "\\begin{description*}\n",
       "\\item[genA] 1\n",
       "\\item[genB] 2\n",
       "\\item[genC] 1\n",
       "\\item[genD] 2\n",
       "\\end{description*}\n"
      ],
      "text/markdown": [
       "genA\n",
       ":   1genB\n",
       ":   2genC\n",
       ":   1genD\n",
       ":   2\n",
       "\n"
      ],
      "text/plain": [
       "genA genB genC genD \n",
       "   1    2    1    2 "
      ]
     },
     "metadata": {},
     "output_type": "display_data"
    }
   ],
   "source": [
    "MiCorte = cutree(MiClusteringJerarquicoSTD, k = 2)\n",
    "MiCorte"
   ]
  },
  {
   "cell_type": "markdown",
   "metadata": {},
   "source": [
    "## Generar sub clusters\n",
    "Ahora vamos a agrupar los genes del mismo ejemplo por e metodo de __K-medias__, al que se le debe pedir apriori un número de clusters. Se utiliza la función __kmeans()__."
   ]
  },
  {
   "cell_type": "code",
   "execution_count": 16,
   "metadata": {},
   "outputs": [
    {
     "data": {
      "text/plain": [
       "K-means clustering with 2 clusters of sizes 2, 2\n",
       "\n",
       "Cluster means:\n",
       "          X0            X1         X2\n",
       "1  0.6516082  4.960655e-01 -1.1476737\n",
       "2 -0.9819805 -5.551115e-17  0.9819805\n",
       "\n",
       "Clustering vector:\n",
       "genA genB genC genD \n",
       "   2    1    2    1 \n",
       "\n",
       "Within cluster sum of squares by cluster:\n",
       "[1] 0.02434168 0.14285714\n",
       " (between_SS / total_SS =  97.8 %)\n",
       "\n",
       "Available components:\n",
       "\n",
       "[1] \"cluster\"      \"centers\"      \"totss\"        \"withinss\"     \"tot.withinss\"\n",
       "[6] \"betweenss\"    \"size\"         \"iter\"         \"ifault\"      "
      ]
     },
     "metadata": {},
     "output_type": "display_data"
    }
   ],
   "source": [
    "num_Clusters = 2\n",
    "MiClusteringKMedias = kmeans(MiTablaSTD, num_Clusters)\n",
    "MiClusteringKMedias"
   ]
  },
  {
   "cell_type": "markdown",
   "metadata": {},
   "source": [
    "Si el __número de clusters__ a encontrar __fuera mayor__, es recomendable aumentar el _número de inicios al azar_; por ejemplo, para inicializar 100 veces en forma aleatoria:"
   ]
  },
  {
   "cell_type": "code",
   "execution_count": 17,
   "metadata": {},
   "outputs": [
    {
     "ename": "ERROR",
     "evalue": "Error in as.matrix(x): objeto 'MiTablaGrande' no encontrado\n",
     "output_type": "error",
     "traceback": [
      "Error in as.matrix(x): objeto 'MiTablaGrande' no encontrado\nTraceback:\n",
      "1. kmeans(MiTablaGrande, 5, nstart = 100)",
      "2. as.matrix(x)"
     ]
    }
   ],
   "source": [
    "kmeans(MiTablaGrande,5,nstart = 100)"
   ]
  }
 ],
 "metadata": {
  "kernelspec": {
   "display_name": "R",
   "language": "R",
   "name": "ir"
  },
  "language_info": {
   "codemirror_mode": "r",
   "file_extension": ".r",
   "mimetype": "text/x-r-source",
   "name": "R",
   "pygments_lexer": "r",
   "version": "3.4.3"
  }
 },
 "nbformat": 4,
 "nbformat_minor": 2
}
