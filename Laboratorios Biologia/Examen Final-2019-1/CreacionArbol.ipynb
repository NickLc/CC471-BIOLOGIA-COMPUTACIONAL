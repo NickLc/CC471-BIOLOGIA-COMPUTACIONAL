{
 "cells": [
  {
   "cell_type": "code",
   "execution_count": 1,
   "metadata": {},
   "outputs": [],
   "source": [
    "from Bio import SeqIO\n",
    "import os\n",
    "\n",
    "def join_Fasta(elegidos):\n",
    "    \"\"\"Une las secuencias que se encuentran en el directorio input_dir \n",
    "    y que se encuentren el la lista de los elegidos = [ ]. \n",
    "    Retorna en la secuencia total en el directorio output_dir\"\"\"\n",
    "    \n",
    "    input_dir = 'data_gen/fasta/' \n",
    "    output_dir = 'data_gen/Sec_Unidas.fasta'\n",
    "    \n",
    "    print('Procediendo a leer los ficheros de ', input_dir)\n",
    "    records = []\n",
    "    num_seq = -1\n",
    "    for seq in os.listdir(input_dir):\n",
    "        num_seq += 1 \n",
    "        if num_seq in elegidos:\n",
    "            fichero = open(input_dir + seq)\n",
    "            record = SeqIO.read(fichero, 'fasta')\n",
    "            records.append(record)\n",
    "    SeqIO.write(records, output_dir, 'fasta')\n",
    "    print('Se unido todas las secuencias fasta de {} en {}'.format(input_dir, output_dir))"
   ]
  },
  {
   "cell_type": "code",
   "execution_count": 2,
   "metadata": {
    "scrolled": true
   },
   "outputs": [
    {
     "name": "stdout",
     "output_type": "stream",
     "text": [
      "Procediendo a leer los ficheros de  data_gen/fasta/\n",
      "Se unido todas las secuencias fasta de data_gen/fasta/ en data_gen/Sec_Unidas.fasta\n"
     ]
    }
   ],
   "source": [
    "elegidos = [1,2,5,9]\n",
    "join_Fasta(elegidos)"
   ]
  },
  {
   "cell_type": "code",
   "execution_count": 3,
   "metadata": {},
   "outputs": [],
   "source": [
    "import os\n",
    "\n",
    "def alinear_Secuencias(filename = 'Sec_Unidas.fasta'):\n",
    "    dir_inicio='data_gen'\n",
    "    dir_final = 'Clustal_Omega'\n",
    "    salida_ali = 'Sec_Alineadas.clustal'\n",
    "    print('Alineando las secuencias......')\n",
    "    mover_archivo(dir_inicio, dir_final, filename)\n",
    "    #Realizar el alineamiento\n",
    "    comando = 'cd Clustal_Omega & clustalo.exe -i {} -o {} --outfmt=clu --force'.format(filename,salida_ali)\n",
    "    os.system(comando)\n",
    "    print('Se genero el archivo: {}'.format(salida_ali))\n",
    "\n",
    "    mover_archivo(dir_final, dir_inicio, salida_ali)\n",
    "    mover_archivo(dir_final, dir_inicio, filename)\n",
    "\n",
    "#----------------------------------------------------------------------------\n",
    "\n",
    "def mover_archivo(dir_inicio, dir_final, filename):\n",
    "    comando = 'move {}\\{} {}\\{}'.format(dir_inicio,filename, dir_final, filename)\n",
    "    os.system(comando)"
   ]
  },
  {
   "cell_type": "code",
   "execution_count": 4,
   "metadata": {},
   "outputs": [
    {
     "name": "stdout",
     "output_type": "stream",
     "text": [
      "Alineando las secuencias......\n",
      "Se genero el archivo: Sec_Alineadas.clustal\n"
     ]
    }
   ],
   "source": [
    "alinear_Secuencias()"
   ]
  },
  {
   "cell_type": "code",
   "execution_count": 1,
   "metadata": {},
   "outputs": [],
   "source": [
    "from Bio import AlignIO\n",
    "\n",
    "def leer_SecAli(input_clustal = 'data_gen/Sec_Alineadas.clustal'):\n",
    "\n",
    "    \"\"\" Recibe la direccion del archivo clutal con la secuencias aliendas \n",
    "        Retorna un objeto alineamiento\"\"\"\n",
    "    \n",
    "    aln = open(input_clustal, \"r\")\n",
    "    # AlignIO para leer el archivo de alineamiento en formato 'clustal' format\n",
    "    alignment = AlignIO.read(aln, \"clustal\")\n",
    "    return alignment"
   ]
  },
  {
   "cell_type": "code",
   "execution_count": 2,
   "metadata": {},
   "outputs": [
    {
     "name": "stdout",
     "output_type": "stream",
     "text": [
      "\n",
      "Las secuencias alineadas son\n",
      " SingleLetterAlphabet() alignment with 12 rows and 527 columns\n",
      "MLAVGCALLAALLAAPGAALAPRRCPAQEVARGVLTSLPGDSVT...--- PROT1\n",
      "MLAVGCALLAALLAAPGAALAPRRCPAQEVARGVLTSLPGDSVT...--- PROT2\n",
      "MLAVGCALLAALLAAPGAALAPRRCPAQEVARGVLTSLPGDSVT...FPR PROT3\n",
      "MLAVGCALLAALLAAPGAALAPRRCPAQEVARGVLTSLPGDSVT...FPR PROT4\n",
      "MLAVGCALLAALLAAPGAALAPRRCPAQEVARGVLTSLPGDSVT...FPR PROT7\n",
      "MLAVGCALLAALLAAPGAALAPRRCPAQEVARGVLTSLPGDSVT...--- PROT9\n",
      "MLAVGCALLAALLAAPGAALAPRRCPAQEVARGVLTSLPGDSVT...--- PROT11\n",
      "MLAVGCALLAALLAAPGAALAPRRCPAQEVARGVLTSLPGDSVT...FPR PROT10\n",
      "MLAVGCALLAALLAAPGAALAPRRCPAQEVARGVLTSLPGDSVT...FPR PROT8\n",
      "MLAVGCALLAALLAAPGAALAPRRCPAQEVARGVLTSLPGDSVT...--- PROT12\n",
      "MLAVGCALLAALLAAPGAALAPRRCPAQEVARGVLTSLPGDSVT...--- PROT5\n",
      "MLAVGCALLAALLAAPGAALAPRRCPAQEVARGVLTSLPGDSVT...--- PROT6\n"
     ]
    }
   ],
   "source": [
    "aln = leer_SecAli()\n",
    "print(\"\\nLas secuencias alineadas son\\n\",aln)"
   ]
  },
  {
   "cell_type": "code",
   "execution_count": 3,
   "metadata": {},
   "outputs": [
    {
     "name": "stdout",
     "output_type": "stream",
     "text": [
      "PROT1\t0\n",
      "PROT2\t0.14046121593291405\t0\n",
      "PROT3\t0.20674646354733406\t0.20210409745293467\t0\n",
      "PROT4\t0.2510245901639344\t0.24856096284667717\t0.0015408320493066618\t0\n",
      "PROT7\t0.22700691121743755\t0.21353880022014304\t0.001598721023181482\t0.0\t0\n",
      "PROT9\t0.186726659167604\t0.20210409745293467\t0.0\t0.02871046228710461\t0.030086690464048993\t0\n",
      "PROT11\t0.002207505518763808\t0.05190311418685123\t0.12221553281155928\t0.16883852691218126\t0.16883852691218126\t0.09681449094316052\t0\n",
      "PROT10\t0.18753541076487257\t0.17076023391812867\t0.008796481407437051\t0.010391686650679466\t0.010391686650679466\t0.011536444677503921\t0.131848284166165\t0\n",
      "PROT8\t0.2145969498910676\t0.21008869179600886\t0.008477842003853597\t0.01001540832049308\t0.010391686650679466\t0.010994502748625679\t0.131848284166165\t0.0\t0\n",
      "PROT12\t0.2145969498910676\t0.21008869179600886\t0.035876475930971874\t0.037675896504766215\t0.03935514461830247\t0.010994502748625679\t0.131848284166165\t0.027065527065527117\t0.02590909090909088\t0\n",
      "PROT5\t0.16598240469208214\t0.17076023391812867\t0.011536444677503921\t0.04032669729453808\t0.04032669729453808\t0.01121876593574711\t0.10569105691056913\t0.0\t0.0\t0.0\t0\n",
      "PROT6\t0.19481981981981977\t0.21008869179600886\t0.010994502748625679\t0.03848027277155386\t0.04032669729453808\t0.010705596107056015\t0.10569105691056913\t0.0\t0.0\t0.0\t0.0\t0\n",
      "\tPROT1\tPROT2\tPROT3\tPROT4\tPROT7\tPROT9\tPROT11\tPROT10\tPROT8\tPROT12\tPROT5\tPROT6\n"
     ]
    }
   ],
   "source": [
    "from Bio.Phylo.TreeConstruction import DistanceCalculator  # crear la matriz de distancias\n",
    "from Bio.Phylo.TreeConstruction import DistanceTreeConstructor\n",
    "\n",
    "calculator = DistanceCalculator('blosum62')\n",
    "# añade la matriz de  distancias al objeto calculator y lo retorna\n",
    "dm = calculator.get_distance(aln)\n",
    "print(dm)"
   ]
  },
  {
   "cell_type": "code",
   "execution_count": 4,
   "metadata": {},
   "outputs": [],
   "source": [
    "from Bio.Phylo.TreeConstruction import DistanceTreeConstructor\n",
    "\n",
    "def create_Tree(alignment, tipo = 'upgma'):\n",
    "    \"\"\"Se recibe de entrada el alimenamiento y el tipo de arbol nj o upgma \n",
    "    Genera ell arbol filogenetico \n",
    "    \"\"\"\n",
    "    print('Creando el arbol filogenetico ......')\n",
    "    # 3. Creamos la matriz de distancias\n",
    "    calculator = DistanceCalculator('identity')\n",
    "    # añade la matriz de  distancias al objeto calculator y lo retorna\n",
    "    dm = calculator.get_distance(alignment)\n",
    "\n",
    "    #initialize a DistanceTreeConstructor object based on our distance calculator object\n",
    "    constructor = DistanceTreeConstructor(calculator)\n",
    "\n",
    "    #build the tree\n",
    "    if tipo == 'upgma':\n",
    "        tree = constructor.upgma(dm)\n",
    "    if tipo == 'nj':\n",
    "        tree = constructor.nj(dm)\n",
    "\n",
    "    return tree"
   ]
  },
  {
   "cell_type": "code",
   "execution_count": 5,
   "metadata": {},
   "outputs": [
    {
     "name": "stdout",
     "output_type": "stream",
     "text": [
      "Creando el arbol filogenetico ......\n",
      "Tree(rooted=True)\n",
      "    Clade(branch_length=0, name='Inner11')\n",
      "        Clade(branch_length=0.1283206831119545, name='Inner10')\n",
      "            Clade(branch_length=0.06359701138519926, name='Inner8')\n",
      "                Clade(branch_length=0.05574003795066414, name='PROT12')\n",
      "                Clade(branch_length=0.03913662239089184, name='Inner4')\n",
      "                    Clade(branch_length=0.016603415559772294, name='PROT5')\n",
      "                    Clade(branch_length=0.013757115749525595, name='Inner1')\n",
      "                        Clade(branch_length=0.0028462998102466996, name='PROT6')\n",
      "                        Clade(branch_length=0.0028462998102466996, name='PROT9')\n",
      "            Clade(branch_length=0.1027336337760911, name='Inner7')\n",
      "                Clade(branch_length=0.02680265654648955, name='Inner3')\n",
      "                    Clade(branch_length=0.015180265654648972, name='PROT7')\n",
      "                    Clade(branch_length=0.015180265654648972, name='PROT4')\n",
      "                Clade(branch_length=0.025379506641366227, name='Inner5')\n",
      "                    Clade(branch_length=0.016603415559772294, name='PROT10')\n",
      "                    Clade(branch_length=0.013757115749525595, name='Inner2')\n",
      "                        Clade(branch_length=0.0028462998102466996, name='PROT8')\n",
      "                        Clade(branch_length=0.0028462998102466996, name='PROT3')\n",
      "        Clade(branch_length=0.12476280834914613, name='Inner9')\n",
      "            Clade(branch_length=0.059297912713472484, name='PROT2')\n",
      "            Clade(branch_length=0.027039848197343425, name='Inner6')\n",
      "                Clade(branch_length=0.03225806451612906, name='PROT11')\n",
      "                Clade(branch_length=0.03225806451612906, name='PROT1')\n"
     ]
    }
   ],
   "source": [
    "tree = create_Tree(aln)\n",
    "print(tree)"
   ]
  },
  {
   "cell_type": "code",
   "execution_count": 6,
   "metadata": {},
   "outputs": [],
   "source": [
    "from Bio import Phylo\n",
    "import pylab\n",
    "\n",
    "def draw_Tree(tree):\n",
    "    \"\"\" Muestra el arbol en pantalla\"\"\"\n",
    "    Phylo.draw(tree)"
   ]
  },
  {
   "cell_type": "code",
   "execution_count": 7,
   "metadata": {},
   "outputs": [
    {
     "data": {
      "image/png": "[encoded data removed]",
      "text/plain": [
       "<matplotlib.figure.Figure at 0x2143538eb00>"
      ]
     },
     "metadata": {
      "needs_background": "light"
     },
     "output_type": "display_data"
    }
   ],
   "source": [
    "draw_Tree(tree)"
   ]
  },
  {
   "cell_type": "code",
   "execution_count": 8,
   "metadata": {},
   "outputs": [
    {
     "name": "stdout",
     "output_type": "stream",
     "text": [
      "Creando el arbol filogenetico ......\n"
     ]
    }
   ],
   "source": [
    "tree = create_Tree(aln, 'nj')"
   ]
  },
  {
   "cell_type": "code",
   "execution_count": 9,
   "metadata": {},
   "outputs": [
    {
     "data": {
      "image/png": "[encoded data removed]",
      "text/plain": [
       "<matplotlib.figure.Figure at 0x214366c0748>"
      ]
     },
     "metadata": {
      "needs_background": "light"
     },
     "output_type": "display_data"
    }
   ],
   "source": [
    "draw_Tree(tree)"
   ]
  },
  {
   "cell_type": "code",
   "execution_count": null,
   "metadata": {},
   "outputs": [],
   "source": []
  }
 ],
 "metadata": {
  "kernelspec": {
   "display_name": "Python 3",
   "language": "python",
   "name": "python3"
  },
  "language_info": {
   "codemirror_mode": {
    "name": "ipython",
    "version": 3
   },
   "file_extension": ".py",
   "mimetype": "text/x-python",
   "name": "python",
   "nbconvert_exporter": "python",
   "pygments_lexer": "ipython3",
   "version": "3.6.4"
  }
 },
 "nbformat": 4,
 "nbformat_minor": 2
}
